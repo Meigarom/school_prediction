{
 "cells": [
  {
   "cell_type": "markdown",
   "id": "2e818e66",
   "metadata": {},
   "source": [
    "# IMPORTS"
   ]
  },
  {
   "cell_type": "code",
   "execution_count": 1,
   "id": "c6a09642",
   "metadata": {
    "ExecuteTime": {
     "end_time": "2022-03-22T19:13:26.014148Z",
     "start_time": "2022-03-22T19:13:25.295205Z"
    }
   },
   "outputs": [],
   "source": [
    "# data manipulation\n",
    "import pandas as pd\n",
    "import numpy  as np\n",
    "\n",
    "# data visutalization\n",
    "import matplotlib.pyplot as plt\n",
    "import seaborn           as sns\n",
    "\n",
    "# stats\n",
    "import scipy as ss"
   ]
  },
  {
   "cell_type": "markdown",
   "id": "433404ce",
   "metadata": {
    "ExecuteTime": {
     "end_time": "2022-03-18T18:13:22.659591Z",
     "start_time": "2022-03-18T18:13:22.657109Z"
    }
   },
   "source": [
    "# HELPER FUNCTIONS"
   ]
  },
  {
   "cell_type": "code",
   "execution_count": 2,
   "id": "060d2c4f",
   "metadata": {
    "ExecuteTime": {
     "end_time": "2022-03-22T19:13:27.354164Z",
     "start_time": "2022-03-22T19:13:27.343580Z"
    }
   },
   "outputs": [],
   "source": [
    "def jupyter_settings():\n",
    "    %matplotlib inline\n",
    "    %pylab inline\n",
    "    \n",
    "    plt.style.use( 'fivethirtyeight' )\n",
    "    plt.rcParams['figure.figsize'] = [20, 8]\n",
    "    plt.rcParams['font.size'] = 24\n",
    "    plt.rcParams['font.family'] = 'serif'\n",
    "    plt.rcParams['font.serif'] = 'Ubuntu'\n",
    "    plt.rcParams['font.monospace'] = 'Ubuntu Mono'\n",
    "    plt.rcParams['font.size'] = 12\n",
    "    plt.rcParams['axes.labelsize'] = 14\n",
    "    plt.rcParams['axes.labelweight'] = 'bold'\n",
    "    plt.rcParams['axes.titlesize'] = 15\n",
    "    plt.rcParams['xtick.labelsize'] = 10\n",
    "    plt.rcParams['ytick.labelsize'] = 10\n",
    "    plt.rcParams['legend.fontsize'] = 12\n",
    "    plt.rcParams['figure.titlesize'] = 12\n",
    "    \n",
    "    display( HTML( '<style>.container { width:80% !important; }</style>') )\n",
    "    pd.options.display.max_columns = None\n",
    "    pd.options.display.max_rows = None\n",
    "    pd.set_option( 'display.expand_frame_repr', False )\n",
    "    \n",
    "    #sns.set()\n",
    "    sns.set_style('ticks')\n",
    "    \n"
   ]
  },
  {
   "cell_type": "code",
   "execution_count": 3,
   "id": "c7ecb259",
   "metadata": {
    "ExecuteTime": {
     "end_time": "2022-03-22T19:13:27.966445Z",
     "start_time": "2022-03-22T19:13:27.960675Z"
    }
   },
   "outputs": [],
   "source": [
    "def get_summary(numerical_attributes):\n",
    "    \n",
    "    # Central Tendency - mean, median \n",
    "    ct1 = pd.DataFrame( numerical_attributes.apply( np.mean ) ).T\n",
    "    ct2 = pd.DataFrame( numerical_attributes.apply( np.median ) ).T\n",
    "\n",
    "    # dispersion - std, min, max, range, skew, kurtosis\n",
    "    d1 = pd.DataFrame( numerical_attributes.apply( np.std ) ).T \n",
    "    d2 = pd.DataFrame( numerical_attributes.apply( min ) ).T \n",
    "    d3 = pd.DataFrame( numerical_attributes.apply( max ) ).T \n",
    "    d4 = pd.DataFrame( numerical_attributes.apply( lambda x: x.max() - x.min() ) ).T \n",
    "    d5 = pd.DataFrame( numerical_attributes.apply( lambda x: x.skew() ) ).T \n",
    "    d6 = pd.DataFrame( numerical_attributes.apply( lambda x: x.kurtosis() ) ).T \n",
    "\n",
    "    # concatenar\n",
    "    m = pd.concat( [d2, d3, d4, ct1, ct2, d1, d5, d6] ).T.reset_index()\n",
    "    m.columns = ['attributes', 'min', 'max', 'range', 'mean', 'median', 'std', 'skew', 'kurtosis']\n",
    "    \n",
    "    return m"
   ]
  },
  {
   "cell_type": "markdown",
   "id": "6e74bada",
   "metadata": {
    "ExecuteTime": {
     "end_time": "2022-03-18T18:15:06.500982Z",
     "start_time": "2022-03-18T18:15:06.498450Z"
    }
   },
   "source": [
    "# DATA LOADING"
   ]
  },
  {
   "cell_type": "code",
   "execution_count": 31,
   "id": "9005894d",
   "metadata": {
    "ExecuteTime": {
     "end_time": "2022-03-22T22:11:55.517515Z",
     "start_time": "2022-03-22T22:11:55.201707Z"
    }
   },
   "outputs": [],
   "source": [
    "cat_school_data = pd.read_csv('/Users/brunoschirmer/Repos/murabei/data/cat_school_data.csv', sep=';')\n",
    "cat_student_data = pd.read_csv('/Users/brunoschirmer/Repos/murabei/data/cat_student_data.csv', sep=';')\n",
    "num_school_data = pd.read_csv('/Users/brunoschirmer/Repos/murabei/data/num_school_data.csv', sep=';')\n",
    "num_student_data = pd.read_csv('/Users/brunoschirmer/Repos/murabei/data/num_student_data.csv', sep=';')"
   ]
  },
  {
   "cell_type": "code",
   "execution_count": 27,
   "id": "c07d58d4",
   "metadata": {
    "ExecuteTime": {
     "end_time": "2022-03-22T19:42:47.201065Z",
     "start_time": "2022-03-22T19:42:47.188712Z"
    }
   },
   "outputs": [],
   "source": [
    "cat_student_data = pd.read_csv('/Users/brunoschirmer/Repos/murabei/data/cat_student_data.csv')"
   ]
  },
  {
   "cell_type": "code",
   "execution_count": 32,
   "id": "84582b81",
   "metadata": {
    "ExecuteTime": {
     "end_time": "2022-03-22T22:12:42.671840Z",
     "start_time": "2022-03-22T22:12:42.536445Z"
    }
   },
   "outputs": [
    {
     "data": {
      "text/html": [
       "<div>\n",
       "<style scoped>\n",
       "    .dataframe tbody tr th:only-of-type {\n",
       "        vertical-align: middle;\n",
       "    }\n",
       "\n",
       "    .dataframe tbody tr th {\n",
       "        vertical-align: top;\n",
       "    }\n",
       "\n",
       "    .dataframe thead th {\n",
       "        text-align: right;\n",
       "    }\n",
       "</style>\n",
       "<table border=\"1\" class=\"dataframe\">\n",
       "  <thead>\n",
       "    <tr style=\"text-align: right;\">\n",
       "      <th></th>\n",
       "      <th>school</th>\n",
       "      <th>student</th>\n",
       "      <th>variable</th>\n",
       "      <th>value</th>\n",
       "    </tr>\n",
       "  </thead>\n",
       "  <tbody>\n",
       "    <tr>\n",
       "      <th>1</th>\n",
       "      <td>1</td>\n",
       "      <td>143</td>\n",
       "      <td>intake</td>\n",
       "      <td>bottom 25%</td>\n",
       "    </tr>\n",
       "    <tr>\n",
       "      <th>2</th>\n",
       "      <td>1</td>\n",
       "      <td>145</td>\n",
       "      <td>intake</td>\n",
       "      <td>mid 50%</td>\n",
       "    </tr>\n",
       "    <tr>\n",
       "      <th>3</th>\n",
       "      <td>1</td>\n",
       "      <td>142</td>\n",
       "      <td>intake</td>\n",
       "      <td>top 25%</td>\n",
       "    </tr>\n",
       "    <tr>\n",
       "      <th>4</th>\n",
       "      <td>1</td>\n",
       "      <td>141</td>\n",
       "      <td>intake</td>\n",
       "      <td>mid 50%</td>\n",
       "    </tr>\n",
       "    <tr>\n",
       "      <th>5</th>\n",
       "      <td>1</td>\n",
       "      <td>138</td>\n",
       "      <td>intake</td>\n",
       "      <td>mid 50%</td>\n",
       "    </tr>\n",
       "  </tbody>\n",
       "</table>\n",
       "</div>"
      ],
      "text/plain": [
       "   school  student variable       value\n",
       "1       1      143   intake  bottom 25%\n",
       "2       1      145   intake     mid 50%\n",
       "3       1      142   intake     top 25%\n",
       "4       1      141   intake     mid 50%\n",
       "5       1      138   intake     mid 50%"
      ]
     },
     "execution_count": 32,
     "metadata": {},
     "output_type": "execute_result"
    }
   ],
   "source": [
    "cat_student_data.head()"
   ]
  },
  {
   "cell_type": "code",
   "execution_count": 42,
   "id": "7a8c35b3",
   "metadata": {
    "ExecuteTime": {
     "end_time": "2022-03-22T22:21:01.875164Z",
     "start_time": "2022-03-22T22:21:01.860786Z"
    }
   },
   "outputs": [
    {
     "name": "stderr",
     "output_type": "stream",
     "text": [
      "/usr/local/lib/python3.9/site-packages/pandas/core/apply.py:507: FutureWarning: Dropping invalid columns in DataFrameGroupBy.mean is deprecated. In a future version, a TypeError will be raised. Before calling .mean, select only columns which should be valid for the function.\n",
      "  return self._try_aggregate_string_function(obj, f, *self.args, **self.kwargs)\n"
     ]
    },
    {
     "data": {
      "text/html": [
       "<div>\n",
       "<style scoped>\n",
       "    .dataframe tbody tr th:only-of-type {\n",
       "        vertical-align: middle;\n",
       "    }\n",
       "\n",
       "    .dataframe tbody tr th {\n",
       "        vertical-align: top;\n",
       "    }\n",
       "\n",
       "    .dataframe thead th {\n",
       "        text-align: right;\n",
       "    }\n",
       "</style>\n",
       "<table border=\"1\" class=\"dataframe\">\n",
       "  <thead>\n",
       "    <tr style=\"text-align: right;\">\n",
       "      <th>variable</th>\n",
       "      <th>school</th>\n",
       "    </tr>\n",
       "  </thead>\n",
       "  <tbody>\n",
       "    <tr>\n",
       "      <th>0</th>\n",
       "      <td>1</td>\n",
       "    </tr>\n",
       "    <tr>\n",
       "      <th>1</th>\n",
       "      <td>2</td>\n",
       "    </tr>\n",
       "    <tr>\n",
       "      <th>2</th>\n",
       "      <td>3</td>\n",
       "    </tr>\n",
       "    <tr>\n",
       "      <th>3</th>\n",
       "      <td>4</td>\n",
       "    </tr>\n",
       "    <tr>\n",
       "      <th>4</th>\n",
       "      <td>5</td>\n",
       "    </tr>\n",
       "  </tbody>\n",
       "</table>\n",
       "</div>"
      ],
      "text/plain": [
       "variable  school\n",
       "0              1\n",
       "1              2\n",
       "2              3\n",
       "3              4\n",
       "4              5"
      ]
     },
     "execution_count": 42,
     "metadata": {},
     "output_type": "execute_result"
    }
   ],
   "source": [
    "df_raw = pd.pivot_table(data = cat_student_data, index='school', columns='variable', values='value').reset_index()\n",
    "df_raw.head()"
   ]
  },
  {
   "cell_type": "code",
   "execution_count": null,
   "id": "1898caa9",
   "metadata": {},
   "outputs": [],
   "source": [
    "df_raw = pd.pivot_table(data = cat_student_data, index='school', columns='variable', values='value').reset_index()\n",
    "df_raw.head()"
   ]
  },
  {
   "cell_type": "code",
   "execution_count": 46,
   "id": "230ab838",
   "metadata": {
    "ExecuteTime": {
     "end_time": "2022-03-22T22:24:10.166075Z",
     "start_time": "2022-03-22T22:24:10.153542Z"
    }
   },
   "outputs": [
    {
     "name": "stderr",
     "output_type": "stream",
     "text": [
      "/usr/local/lib/python3.9/site-packages/IPython/core/interactiveshell.py:3444: FutureWarning: This dataframe has a column name that matches the 'value_name' column name of the resulting Dataframe. In the future this will raise an error, please set the 'value_name' parameter of DataFrame.melt to a unique name.\n",
      "  exec(code_obj, self.user_global_ns, self.user_ns)\n"
     ]
    },
    {
     "data": {
      "text/html": [
       "<div>\n",
       "<style scoped>\n",
       "    .dataframe tbody tr th:only-of-type {\n",
       "        vertical-align: middle;\n",
       "    }\n",
       "\n",
       "    .dataframe tbody tr th {\n",
       "        vertical-align: top;\n",
       "    }\n",
       "\n",
       "    .dataframe thead th {\n",
       "        text-align: right;\n",
       "    }\n",
       "</style>\n",
       "<table border=\"1\" class=\"dataframe\">\n",
       "  <thead>\n",
       "    <tr style=\"text-align: right;\">\n",
       "      <th></th>\n",
       "      <th>index</th>\n",
       "      <th>school</th>\n",
       "      <th>student</th>\n",
       "      <th>variable</th>\n",
       "      <th>value</th>\n",
       "    </tr>\n",
       "  </thead>\n",
       "  <tbody>\n",
       "    <tr>\n",
       "      <th>0</th>\n",
       "      <td>0</td>\n",
       "      <td>1</td>\n",
       "      <td>143</td>\n",
       "      <td>value</td>\n",
       "      <td>bottom 25%</td>\n",
       "    </tr>\n",
       "    <tr>\n",
       "      <th>1</th>\n",
       "      <td>1</td>\n",
       "      <td>1</td>\n",
       "      <td>145</td>\n",
       "      <td>value</td>\n",
       "      <td>mid 50%</td>\n",
       "    </tr>\n",
       "    <tr>\n",
       "      <th>2</th>\n",
       "      <td>2</td>\n",
       "      <td>1</td>\n",
       "      <td>142</td>\n",
       "      <td>value</td>\n",
       "      <td>top 25%</td>\n",
       "    </tr>\n",
       "    <tr>\n",
       "      <th>3</th>\n",
       "      <td>3</td>\n",
       "      <td>1</td>\n",
       "      <td>141</td>\n",
       "      <td>value</td>\n",
       "      <td>mid 50%</td>\n",
       "    </tr>\n",
       "    <tr>\n",
       "      <th>4</th>\n",
       "      <td>4</td>\n",
       "      <td>1</td>\n",
       "      <td>138</td>\n",
       "      <td>value</td>\n",
       "      <td>mid 50%</td>\n",
       "    </tr>\n",
       "  </tbody>\n",
       "</table>\n",
       "</div>"
      ],
      "text/plain": [
       "   index  school  student variable       value\n",
       "0      0       1      143    value  bottom 25%\n",
       "1      1       1      145    value     mid 50%\n",
       "2      2       1      142    value     top 25%\n",
       "3      3       1      141    value     mid 50%\n",
       "4      4       1      138    value     mid 50%"
      ]
     },
     "execution_count": 46,
     "metadata": {},
     "output_type": "execute_result"
    }
   ],
   "source": [
    "df_raw = pd.melt(cat_student_data, id_vars=['school', 'student'], var_name='variable', value_vars='value').reset_index()\n",
    "df_raw.head()"
   ]
  },
  {
   "cell_type": "code",
   "execution_count": 33,
   "id": "4b7a5ed1",
   "metadata": {
    "ExecuteTime": {
     "end_time": "2022-03-22T22:12:45.792359Z",
     "start_time": "2022-03-22T22:12:45.700943Z"
    }
   },
   "outputs": [
    {
     "data": {
      "text/html": [
       "<div>\n",
       "<style scoped>\n",
       "    .dataframe tbody tr th:only-of-type {\n",
       "        vertical-align: middle;\n",
       "    }\n",
       "\n",
       "    .dataframe tbody tr th {\n",
       "        vertical-align: top;\n",
       "    }\n",
       "\n",
       "    .dataframe thead th {\n",
       "        text-align: right;\n",
       "    }\n",
       "</style>\n",
       "<table border=\"1\" class=\"dataframe\">\n",
       "  <thead>\n",
       "    <tr style=\"text-align: right;\">\n",
       "      <th></th>\n",
       "      <th>school</th>\n",
       "      <th>variable</th>\n",
       "      <th>value</th>\n",
       "    </tr>\n",
       "  </thead>\n",
       "  <tbody>\n",
       "    <tr>\n",
       "      <th>0</th>\n",
       "      <td>1</td>\n",
       "      <td>schavg</td>\n",
       "      <td>0,1661752</td>\n",
       "    </tr>\n",
       "    <tr>\n",
       "      <th>1</th>\n",
       "      <td>2</td>\n",
       "      <td>schavg</td>\n",
       "      <td>0,3951492</td>\n",
       "    </tr>\n",
       "    <tr>\n",
       "      <th>2</th>\n",
       "      <td>3</td>\n",
       "      <td>schavg</td>\n",
       "      <td>0,5141552</td>\n",
       "    </tr>\n",
       "    <tr>\n",
       "      <th>3</th>\n",
       "      <td>4</td>\n",
       "      <td>schavg</td>\n",
       "      <td>0,0917642</td>\n",
       "    </tr>\n",
       "    <tr>\n",
       "      <th>4</th>\n",
       "      <td>5</td>\n",
       "      <td>schavg</td>\n",
       "      <td>0,2105252</td>\n",
       "    </tr>\n",
       "  </tbody>\n",
       "</table>\n",
       "</div>"
      ],
      "text/plain": [
       "   school variable      value\n",
       "0       1   schavg  0,1661752\n",
       "1       2   schavg  0,3951492\n",
       "2       3   schavg  0,5141552\n",
       "3       4   schavg  0,0917642\n",
       "4       5   schavg  0,2105252"
      ]
     },
     "execution_count": 33,
     "metadata": {},
     "output_type": "execute_result"
    }
   ],
   "source": [
    "num_school_data.head()"
   ]
  },
  {
   "cell_type": "code",
   "execution_count": 34,
   "id": "8145da8a",
   "metadata": {
    "ExecuteTime": {
     "end_time": "2022-03-22T22:12:48.268465Z",
     "start_time": "2022-03-22T22:12:48.158077Z"
    }
   },
   "outputs": [
    {
     "data": {
      "text/html": [
       "<div>\n",
       "<style scoped>\n",
       "    .dataframe tbody tr th:only-of-type {\n",
       "        vertical-align: middle;\n",
       "    }\n",
       "\n",
       "    .dataframe tbody tr th {\n",
       "        vertical-align: top;\n",
       "    }\n",
       "\n",
       "    .dataframe thead th {\n",
       "        text-align: right;\n",
       "    }\n",
       "</style>\n",
       "<table border=\"1\" class=\"dataframe\">\n",
       "  <thead>\n",
       "    <tr style=\"text-align: right;\">\n",
       "      <th></th>\n",
       "      <th>school</th>\n",
       "      <th>student</th>\n",
       "      <th>variable</th>\n",
       "      <th>value</th>\n",
       "    </tr>\n",
       "  </thead>\n",
       "  <tbody>\n",
       "    <tr>\n",
       "      <th>1</th>\n",
       "      <td>1</td>\n",
       "      <td>143.0</td>\n",
       "      <td>normexam</td>\n",
       "      <td>0,2613242</td>\n",
       "    </tr>\n",
       "    <tr>\n",
       "      <th>2</th>\n",
       "      <td>1</td>\n",
       "      <td>145.0</td>\n",
       "      <td>normexam</td>\n",
       "      <td>0,1340672</td>\n",
       "    </tr>\n",
       "    <tr>\n",
       "      <th>3</th>\n",
       "      <td>1</td>\n",
       "      <td>142.0</td>\n",
       "      <td>normexam</td>\n",
       "      <td>-1,723882</td>\n",
       "    </tr>\n",
       "    <tr>\n",
       "      <th>4</th>\n",
       "      <td>1</td>\n",
       "      <td>141.0</td>\n",
       "      <td>normexam</td>\n",
       "      <td>0,9675862</td>\n",
       "    </tr>\n",
       "    <tr>\n",
       "      <th>5</th>\n",
       "      <td>1</td>\n",
       "      <td>138.0</td>\n",
       "      <td>normexam</td>\n",
       "      <td>0,5443412</td>\n",
       "    </tr>\n",
       "  </tbody>\n",
       "</table>\n",
       "</div>"
      ],
      "text/plain": [
       "   school  student  variable      value\n",
       "1       1    143.0  normexam  0,2613242\n",
       "2       1    145.0  normexam  0,1340672\n",
       "3       1    142.0  normexam  -1,723882\n",
       "4       1    141.0  normexam  0,9675862\n",
       "5       1    138.0  normexam  0,5443412"
      ]
     },
     "execution_count": 34,
     "metadata": {},
     "output_type": "execute_result"
    }
   ],
   "source": [
    "num_student_data.head()"
   ]
  },
  {
   "cell_type": "markdown",
   "id": "85a4e1d4",
   "metadata": {
    "ExecuteTime": {
     "end_time": "2022-03-22T19:15:28.799026Z",
     "start_time": "2022-03-22T19:15:28.796647Z"
    }
   },
   "source": [
    "# CAT SCHOOL"
   ]
  },
  {
   "cell_type": "code",
   "execution_count": 30,
   "id": "19653548",
   "metadata": {
    "ExecuteTime": {
     "end_time": "2022-03-22T22:11:11.377369Z",
     "start_time": "2022-03-22T22:11:11.275028Z"
    }
   },
   "outputs": [
    {
     "data": {
      "text/html": [
       "<div>\n",
       "<style scoped>\n",
       "    .dataframe tbody tr th:only-of-type {\n",
       "        vertical-align: middle;\n",
       "    }\n",
       "\n",
       "    .dataframe tbody tr th {\n",
       "        vertical-align: top;\n",
       "    }\n",
       "\n",
       "    .dataframe thead th {\n",
       "        text-align: right;\n",
       "    }\n",
       "</style>\n",
       "<table border=\"1\" class=\"dataframe\">\n",
       "  <thead>\n",
       "    <tr style=\"text-align: right;\">\n",
       "      <th></th>\n",
       "      <th>school</th>\n",
       "      <th>variable</th>\n",
       "      <th>value</th>\n",
       "    </tr>\n",
       "  </thead>\n",
       "  <tbody>\n",
       "    <tr>\n",
       "      <th>0</th>\n",
       "      <td>1</td>\n",
       "      <td>schgend</td>\n",
       "      <td>mixed</td>\n",
       "    </tr>\n",
       "    <tr>\n",
       "      <th>1</th>\n",
       "      <td>2</td>\n",
       "      <td>schgend</td>\n",
       "      <td>girls</td>\n",
       "    </tr>\n",
       "    <tr>\n",
       "      <th>2</th>\n",
       "      <td>3</td>\n",
       "      <td>schgend</td>\n",
       "      <td>mixed</td>\n",
       "    </tr>\n",
       "    <tr>\n",
       "      <th>3</th>\n",
       "      <td>4</td>\n",
       "      <td>schgend</td>\n",
       "      <td>mixed</td>\n",
       "    </tr>\n",
       "    <tr>\n",
       "      <th>4</th>\n",
       "      <td>5</td>\n",
       "      <td>schgend</td>\n",
       "      <td>mixed</td>\n",
       "    </tr>\n",
       "  </tbody>\n",
       "</table>\n",
       "</div>"
      ],
      "text/plain": [
       "   school variable  value\n",
       "0       1  schgend  mixed\n",
       "1       2  schgend  girls\n",
       "2       3  schgend  mixed\n",
       "3       4  schgend  mixed\n",
       "4       5  schgend  mixed"
      ]
     },
     "execution_count": 30,
     "metadata": {},
     "output_type": "execute_result"
    }
   ],
   "source": [
    "cat_school_data.head()"
   ]
  },
  {
   "cell_type": "code",
   "execution_count": 6,
   "id": "e8f55b96",
   "metadata": {
    "ExecuteTime": {
     "end_time": "2022-03-22T19:13:36.648251Z",
     "start_time": "2022-03-22T19:13:36.644050Z"
    }
   },
   "outputs": [],
   "source": [
    "cat_school_data = cat_school_data['school;\"variable\";\"value\"'].str.split(';', expand = True)"
   ]
  },
  {
   "cell_type": "code",
   "execution_count": 7,
   "id": "b1df7db7",
   "metadata": {
    "ExecuteTime": {
     "end_time": "2022-03-22T19:13:37.666988Z",
     "start_time": "2022-03-22T19:13:37.660104Z"
    }
   },
   "outputs": [
    {
     "data": {
      "text/html": [
       "<div>\n",
       "<style scoped>\n",
       "    .dataframe tbody tr th:only-of-type {\n",
       "        vertical-align: middle;\n",
       "    }\n",
       "\n",
       "    .dataframe tbody tr th {\n",
       "        vertical-align: top;\n",
       "    }\n",
       "\n",
       "    .dataframe thead th {\n",
       "        text-align: right;\n",
       "    }\n",
       "</style>\n",
       "<table border=\"1\" class=\"dataframe\">\n",
       "  <thead>\n",
       "    <tr style=\"text-align: right;\">\n",
       "      <th></th>\n",
       "      <th>0</th>\n",
       "      <th>1</th>\n",
       "      <th>2</th>\n",
       "    </tr>\n",
       "  </thead>\n",
       "  <tbody>\n",
       "    <tr>\n",
       "      <th>0</th>\n",
       "      <td>1</td>\n",
       "      <td>\"schgend\"</td>\n",
       "      <td>\"mixed\"</td>\n",
       "    </tr>\n",
       "    <tr>\n",
       "      <th>1</th>\n",
       "      <td>2</td>\n",
       "      <td>\"schgend\"</td>\n",
       "      <td>\"girls\"</td>\n",
       "    </tr>\n",
       "    <tr>\n",
       "      <th>2</th>\n",
       "      <td>3</td>\n",
       "      <td>\"schgend\"</td>\n",
       "      <td>\"mixed\"</td>\n",
       "    </tr>\n",
       "    <tr>\n",
       "      <th>3</th>\n",
       "      <td>4</td>\n",
       "      <td>\"schgend\"</td>\n",
       "      <td>\"mixed\"</td>\n",
       "    </tr>\n",
       "    <tr>\n",
       "      <th>4</th>\n",
       "      <td>5</td>\n",
       "      <td>\"schgend\"</td>\n",
       "      <td>\"mixed\"</td>\n",
       "    </tr>\n",
       "  </tbody>\n",
       "</table>\n",
       "</div>"
      ],
      "text/plain": [
       "   0          1        2\n",
       "0  1  \"schgend\"  \"mixed\"\n",
       "1  2  \"schgend\"  \"girls\"\n",
       "2  3  \"schgend\"  \"mixed\"\n",
       "3  4  \"schgend\"  \"mixed\"\n",
       "4  5  \"schgend\"  \"mixed\""
      ]
     },
     "execution_count": 7,
     "metadata": {},
     "output_type": "execute_result"
    }
   ],
   "source": [
    "cat_school_data.head()"
   ]
  },
  {
   "cell_type": "code",
   "execution_count": 14,
   "id": "b8bade80",
   "metadata": {
    "ExecuteTime": {
     "end_time": "2022-03-22T19:16:44.150387Z",
     "start_time": "2022-03-22T19:16:44.143449Z"
    }
   },
   "outputs": [
    {
     "name": "stderr",
     "output_type": "stream",
     "text": [
      "/var/folders/04/fz9wjmrx1fvgdw9ycmx8w0cr0000gn/T/ipykernel_37197/4254965563.py:2: FutureWarning: In a future version of pandas all arguments of DataFrame.drop except for the argument 'labels' will be keyword-only\n",
      "  cat_school_data = cat_school_data.drop('variable', 1)\n"
     ]
    }
   ],
   "source": [
    "cat_school_data.columns = ['school','variable','gender']\n",
    "cat_school_data = cat_school_data.drop('variable', 1)"
   ]
  },
  {
   "cell_type": "code",
   "execution_count": 15,
   "id": "ac1500a8",
   "metadata": {
    "ExecuteTime": {
     "end_time": "2022-03-22T19:16:56.518847Z",
     "start_time": "2022-03-22T19:16:56.512348Z"
    }
   },
   "outputs": [
    {
     "data": {
      "text/html": [
       "<div>\n",
       "<style scoped>\n",
       "    .dataframe tbody tr th:only-of-type {\n",
       "        vertical-align: middle;\n",
       "    }\n",
       "\n",
       "    .dataframe tbody tr th {\n",
       "        vertical-align: top;\n",
       "    }\n",
       "\n",
       "    .dataframe thead th {\n",
       "        text-align: right;\n",
       "    }\n",
       "</style>\n",
       "<table border=\"1\" class=\"dataframe\">\n",
       "  <thead>\n",
       "    <tr style=\"text-align: right;\">\n",
       "      <th></th>\n",
       "      <th>school</th>\n",
       "      <th>gender</th>\n",
       "    </tr>\n",
       "  </thead>\n",
       "  <tbody>\n",
       "    <tr>\n",
       "      <th>0</th>\n",
       "      <td>1</td>\n",
       "      <td>\"mixed\"</td>\n",
       "    </tr>\n",
       "    <tr>\n",
       "      <th>1</th>\n",
       "      <td>2</td>\n",
       "      <td>\"girls\"</td>\n",
       "    </tr>\n",
       "    <tr>\n",
       "      <th>2</th>\n",
       "      <td>3</td>\n",
       "      <td>\"mixed\"</td>\n",
       "    </tr>\n",
       "    <tr>\n",
       "      <th>3</th>\n",
       "      <td>4</td>\n",
       "      <td>\"mixed\"</td>\n",
       "    </tr>\n",
       "    <tr>\n",
       "      <th>4</th>\n",
       "      <td>5</td>\n",
       "      <td>\"mixed\"</td>\n",
       "    </tr>\n",
       "  </tbody>\n",
       "</table>\n",
       "</div>"
      ],
      "text/plain": [
       "  school   gender\n",
       "0      1  \"mixed\"\n",
       "1      2  \"girls\"\n",
       "2      3  \"mixed\"\n",
       "3      4  \"mixed\"\n",
       "4      5  \"mixed\""
      ]
     },
     "execution_count": 15,
     "metadata": {},
     "output_type": "execute_result"
    }
   ],
   "source": [
    "cat_school_data.head()"
   ]
  },
  {
   "cell_type": "markdown",
   "id": "7fc78735",
   "metadata": {
    "ExecuteTime": {
     "end_time": "2022-03-22T19:17:22.016043Z",
     "start_time": "2022-03-22T19:17:22.013570Z"
    }
   },
   "source": [
    "# CAT STUDENT"
   ]
  },
  {
   "cell_type": "code",
   "execution_count": 28,
   "id": "363169f3",
   "metadata": {
    "ExecuteTime": {
     "end_time": "2022-03-22T19:42:50.736772Z",
     "start_time": "2022-03-22T19:42:50.730651Z"
    }
   },
   "outputs": [
    {
     "data": {
      "text/html": [
       "<div>\n",
       "<style scoped>\n",
       "    .dataframe tbody tr th:only-of-type {\n",
       "        vertical-align: middle;\n",
       "    }\n",
       "\n",
       "    .dataframe tbody tr th {\n",
       "        vertical-align: top;\n",
       "    }\n",
       "\n",
       "    .dataframe thead th {\n",
       "        text-align: right;\n",
       "    }\n",
       "</style>\n",
       "<table border=\"1\" class=\"dataframe\">\n",
       "  <thead>\n",
       "    <tr style=\"text-align: right;\">\n",
       "      <th></th>\n",
       "      <th>school;\"student\";\"variable\";\"value\"</th>\n",
       "    </tr>\n",
       "  </thead>\n",
       "  <tbody>\n",
       "    <tr>\n",
       "      <th>0</th>\n",
       "      <td>1;\"1\";\"143\";\"intake\";\"bottom 25%\"</td>\n",
       "    </tr>\n",
       "    <tr>\n",
       "      <th>1</th>\n",
       "      <td>2;\"1\";\"145\";\"intake\";\"mid 50%\"</td>\n",
       "    </tr>\n",
       "    <tr>\n",
       "      <th>2</th>\n",
       "      <td>3;\"1\";\"142\";\"intake\";\"top 25%\"</td>\n",
       "    </tr>\n",
       "    <tr>\n",
       "      <th>3</th>\n",
       "      <td>4;\"1\";\"141\";\"intake\";\"mid 50%\"</td>\n",
       "    </tr>\n",
       "    <tr>\n",
       "      <th>4</th>\n",
       "      <td>5;\"1\";\"138\";\"intake\";\"mid 50%\"</td>\n",
       "    </tr>\n",
       "  </tbody>\n",
       "</table>\n",
       "</div>"
      ],
      "text/plain": [
       "  school;\"student\";\"variable\";\"value\"\n",
       "0   1;\"1\";\"143\";\"intake\";\"bottom 25%\"\n",
       "1      2;\"1\";\"145\";\"intake\";\"mid 50%\"\n",
       "2      3;\"1\";\"142\";\"intake\";\"top 25%\"\n",
       "3      4;\"1\";\"141\";\"intake\";\"mid 50%\"\n",
       "4      5;\"1\";\"138\";\"intake\";\"mid 50%\""
      ]
     },
     "execution_count": 28,
     "metadata": {},
     "output_type": "execute_result"
    }
   ],
   "source": [
    "cat_student_data.head()"
   ]
  },
  {
   "cell_type": "code",
   "execution_count": 24,
   "id": "a64eb050",
   "metadata": {
    "ExecuteTime": {
     "end_time": "2022-03-22T19:39:34.229821Z",
     "start_time": "2022-03-22T19:39:34.198626Z"
    }
   },
   "outputs": [
    {
     "data": {
      "text/html": [
       "<div>\n",
       "<style scoped>\n",
       "    .dataframe tbody tr th:only-of-type {\n",
       "        vertical-align: middle;\n",
       "    }\n",
       "\n",
       "    .dataframe tbody tr th {\n",
       "        vertical-align: top;\n",
       "    }\n",
       "\n",
       "    .dataframe thead th {\n",
       "        text-align: right;\n",
       "    }\n",
       "</style>\n",
       "<table border=\"1\" class=\"dataframe\">\n",
       "  <thead>\n",
       "    <tr style=\"text-align: right;\">\n",
       "      <th></th>\n",
       "      <th>0</th>\n",
       "      <th>1</th>\n",
       "      <th>2</th>\n",
       "      <th>3</th>\n",
       "      <th>4</th>\n",
       "    </tr>\n",
       "  </thead>\n",
       "  <tbody>\n",
       "    <tr>\n",
       "      <th>0</th>\n",
       "      <td>1</td>\n",
       "      <td>\"1\"</td>\n",
       "      <td>\"143\"</td>\n",
       "      <td>\"intake\"</td>\n",
       "      <td>\"bottom 25%\"</td>\n",
       "    </tr>\n",
       "    <tr>\n",
       "      <th>1</th>\n",
       "      <td>2</td>\n",
       "      <td>\"1\"</td>\n",
       "      <td>\"145\"</td>\n",
       "      <td>\"intake\"</td>\n",
       "      <td>\"mid 50%\"</td>\n",
       "    </tr>\n",
       "    <tr>\n",
       "      <th>2</th>\n",
       "      <td>3</td>\n",
       "      <td>\"1\"</td>\n",
       "      <td>\"142\"</td>\n",
       "      <td>\"intake\"</td>\n",
       "      <td>\"top 25%\"</td>\n",
       "    </tr>\n",
       "    <tr>\n",
       "      <th>3</th>\n",
       "      <td>4</td>\n",
       "      <td>\"1\"</td>\n",
       "      <td>\"141\"</td>\n",
       "      <td>\"intake\"</td>\n",
       "      <td>\"mid 50%\"</td>\n",
       "    </tr>\n",
       "    <tr>\n",
       "      <th>4</th>\n",
       "      <td>5</td>\n",
       "      <td>\"1\"</td>\n",
       "      <td>\"138\"</td>\n",
       "      <td>\"intake\"</td>\n",
       "      <td>\"mid 50%\"</td>\n",
       "    </tr>\n",
       "    <tr>\n",
       "      <th>...</th>\n",
       "      <td>...</td>\n",
       "      <td>...</td>\n",
       "      <td>...</td>\n",
       "      <td>...</td>\n",
       "      <td>...</td>\n",
       "    </tr>\n",
       "    <tr>\n",
       "      <th>11823</th>\n",
       "      <td>12173</td>\n",
       "      <td>\"65\"</td>\n",
       "      <td>\"46\"</td>\n",
       "      <td>\"vr\"</td>\n",
       "      <td>\"mid 50%\"</td>\n",
       "    </tr>\n",
       "    <tr>\n",
       "      <th>11824</th>\n",
       "      <td>12174</td>\n",
       "      <td>\"65\"</td>\n",
       "      <td>\"59\"</td>\n",
       "      <td>\"vr\"</td>\n",
       "      <td>\"mid 50%\"</td>\n",
       "    </tr>\n",
       "    <tr>\n",
       "      <th>11825</th>\n",
       "      <td>12175</td>\n",
       "      <td>\"65\"</td>\n",
       "      <td>\"60\"</td>\n",
       "      <td>\"vr\"</td>\n",
       "      <td>\"mid 50%\"</td>\n",
       "    </tr>\n",
       "    <tr>\n",
       "      <th>11826</th>\n",
       "      <td>12176</td>\n",
       "      <td>\"65\"</td>\n",
       "      <td>\"61\"</td>\n",
       "      <td>\"vr\"</td>\n",
       "      <td>\"mid 50%\"</td>\n",
       "    </tr>\n",
       "    <tr>\n",
       "      <th>11827</th>\n",
       "      <td>12177</td>\n",
       "      <td>\"65\"</td>\n",
       "      <td>\"56\"</td>\n",
       "      <td>\"vr\"</td>\n",
       "      <td>\"mid 50%\"</td>\n",
       "    </tr>\n",
       "  </tbody>\n",
       "</table>\n",
       "<p>11828 rows × 5 columns</p>\n",
       "</div>"
      ],
      "text/plain": [
       "           0     1      2         3             4\n",
       "0          1   \"1\"  \"143\"  \"intake\"  \"bottom 25%\"\n",
       "1          2   \"1\"  \"145\"  \"intake\"     \"mid 50%\"\n",
       "2          3   \"1\"  \"142\"  \"intake\"     \"top 25%\"\n",
       "3          4   \"1\"  \"141\"  \"intake\"     \"mid 50%\"\n",
       "4          5   \"1\"  \"138\"  \"intake\"     \"mid 50%\"\n",
       "...      ...   ...    ...       ...           ...\n",
       "11823  12173  \"65\"   \"46\"      \"vr\"     \"mid 50%\"\n",
       "11824  12174  \"65\"   \"59\"      \"vr\"     \"mid 50%\"\n",
       "11825  12175  \"65\"   \"60\"      \"vr\"     \"mid 50%\"\n",
       "11826  12176  \"65\"   \"61\"      \"vr\"     \"mid 50%\"\n",
       "11827  12177  \"65\"   \"56\"      \"vr\"     \"mid 50%\"\n",
       "\n",
       "[11828 rows x 5 columns]"
      ]
     },
     "execution_count": 24,
     "metadata": {},
     "output_type": "execute_result"
    }
   ],
   "source": [
    "cat_student_data['school;\"student\";\"variable\";\"value\"'].str.split(';', expand = True)"
   ]
  },
  {
   "cell_type": "code",
   "execution_count": 25,
   "id": "922af669",
   "metadata": {
    "ExecuteTime": {
     "end_time": "2022-03-22T19:39:40.990632Z",
     "start_time": "2022-03-22T19:39:40.986305Z"
    }
   },
   "outputs": [
    {
     "data": {
      "text/plain": [
       "Index(['school;\"student\";\"variable\";\"value\"'], dtype='object')"
      ]
     },
     "execution_count": 25,
     "metadata": {},
     "output_type": "execute_result"
    }
   ],
   "source": [
    "cat_student_data.columns"
   ]
  },
  {
   "cell_type": "code",
   "execution_count": 26,
   "id": "164c26be",
   "metadata": {
    "ExecuteTime": {
     "end_time": "2022-03-22T19:39:43.002238Z",
     "start_time": "2022-03-22T19:39:42.986828Z"
    }
   },
   "outputs": [
    {
     "ename": "ValueError",
     "evalue": "Length mismatch: Expected axis has 2 elements, new values have 4 elements",
     "output_type": "error",
     "traceback": [
      "\u001b[0;31m---------------------------------------------------------------------------\u001b[0m",
      "\u001b[0;31mValueError\u001b[0m                                Traceback (most recent call last)",
      "\u001b[0;32m/var/folders/04/fz9wjmrx1fvgdw9ycmx8w0cr0000gn/T/ipykernel_37197/2085072895.py\u001b[0m in \u001b[0;36m<module>\u001b[0;34m\u001b[0m\n\u001b[0;32m----> 1\u001b[0;31m \u001b[0mcat_school_data\u001b[0m\u001b[0;34m.\u001b[0m\u001b[0mcolumns\u001b[0m \u001b[0;34m=\u001b[0m \u001b[0;34m[\u001b[0m\u001b[0;34m'school'\u001b[0m\u001b[0;34m,\u001b[0m\u001b[0;34m'student'\u001b[0m\u001b[0;34m,\u001b[0m\u001b[0;34m'variable'\u001b[0m\u001b[0;34m,\u001b[0m\u001b[0;34m'value'\u001b[0m\u001b[0;34m]\u001b[0m\u001b[0;34m\u001b[0m\u001b[0;34m\u001b[0m\u001b[0m\n\u001b[0m",
      "\u001b[0;32m/usr/local/lib/python3.9/site-packages/pandas/core/generic.py\u001b[0m in \u001b[0;36m__setattr__\u001b[0;34m(self, name, value)\u001b[0m\n\u001b[1;32m   5498\u001b[0m         \u001b[0;32mtry\u001b[0m\u001b[0;34m:\u001b[0m\u001b[0;34m\u001b[0m\u001b[0;34m\u001b[0m\u001b[0m\n\u001b[1;32m   5499\u001b[0m             \u001b[0mobject\u001b[0m\u001b[0;34m.\u001b[0m\u001b[0m__getattribute__\u001b[0m\u001b[0;34m(\u001b[0m\u001b[0mself\u001b[0m\u001b[0;34m,\u001b[0m \u001b[0mname\u001b[0m\u001b[0;34m)\u001b[0m\u001b[0;34m\u001b[0m\u001b[0;34m\u001b[0m\u001b[0m\n\u001b[0;32m-> 5500\u001b[0;31m             \u001b[0;32mreturn\u001b[0m \u001b[0mobject\u001b[0m\u001b[0;34m.\u001b[0m\u001b[0m__setattr__\u001b[0m\u001b[0;34m(\u001b[0m\u001b[0mself\u001b[0m\u001b[0;34m,\u001b[0m \u001b[0mname\u001b[0m\u001b[0;34m,\u001b[0m \u001b[0mvalue\u001b[0m\u001b[0;34m)\u001b[0m\u001b[0;34m\u001b[0m\u001b[0;34m\u001b[0m\u001b[0m\n\u001b[0m\u001b[1;32m   5501\u001b[0m         \u001b[0;32mexcept\u001b[0m \u001b[0mAttributeError\u001b[0m\u001b[0;34m:\u001b[0m\u001b[0;34m\u001b[0m\u001b[0;34m\u001b[0m\u001b[0m\n\u001b[1;32m   5502\u001b[0m             \u001b[0;32mpass\u001b[0m\u001b[0;34m\u001b[0m\u001b[0;34m\u001b[0m\u001b[0m\n",
      "\u001b[0;32m/usr/local/lib/python3.9/site-packages/pandas/_libs/properties.pyx\u001b[0m in \u001b[0;36mpandas._libs.properties.AxisProperty.__set__\u001b[0;34m()\u001b[0m\n",
      "\u001b[0;32m/usr/local/lib/python3.9/site-packages/pandas/core/generic.py\u001b[0m in \u001b[0;36m_set_axis\u001b[0;34m(self, axis, labels)\u001b[0m\n\u001b[1;32m    764\u001b[0m     \u001b[0;32mdef\u001b[0m \u001b[0m_set_axis\u001b[0m\u001b[0;34m(\u001b[0m\u001b[0mself\u001b[0m\u001b[0;34m,\u001b[0m \u001b[0maxis\u001b[0m\u001b[0;34m:\u001b[0m \u001b[0mint\u001b[0m\u001b[0;34m,\u001b[0m \u001b[0mlabels\u001b[0m\u001b[0;34m:\u001b[0m \u001b[0mIndex\u001b[0m\u001b[0;34m)\u001b[0m \u001b[0;34m->\u001b[0m \u001b[0;32mNone\u001b[0m\u001b[0;34m:\u001b[0m\u001b[0;34m\u001b[0m\u001b[0;34m\u001b[0m\u001b[0m\n\u001b[1;32m    765\u001b[0m         \u001b[0mlabels\u001b[0m \u001b[0;34m=\u001b[0m \u001b[0mensure_index\u001b[0m\u001b[0;34m(\u001b[0m\u001b[0mlabels\u001b[0m\u001b[0;34m)\u001b[0m\u001b[0;34m\u001b[0m\u001b[0;34m\u001b[0m\u001b[0m\n\u001b[0;32m--> 766\u001b[0;31m         \u001b[0mself\u001b[0m\u001b[0;34m.\u001b[0m\u001b[0m_mgr\u001b[0m\u001b[0;34m.\u001b[0m\u001b[0mset_axis\u001b[0m\u001b[0;34m(\u001b[0m\u001b[0maxis\u001b[0m\u001b[0;34m,\u001b[0m \u001b[0mlabels\u001b[0m\u001b[0;34m)\u001b[0m\u001b[0;34m\u001b[0m\u001b[0;34m\u001b[0m\u001b[0m\n\u001b[0m\u001b[1;32m    767\u001b[0m         \u001b[0mself\u001b[0m\u001b[0;34m.\u001b[0m\u001b[0m_clear_item_cache\u001b[0m\u001b[0;34m(\u001b[0m\u001b[0;34m)\u001b[0m\u001b[0;34m\u001b[0m\u001b[0;34m\u001b[0m\u001b[0m\n\u001b[1;32m    768\u001b[0m \u001b[0;34m\u001b[0m\u001b[0m\n",
      "\u001b[0;32m/usr/local/lib/python3.9/site-packages/pandas/core/internals/managers.py\u001b[0m in \u001b[0;36mset_axis\u001b[0;34m(self, axis, new_labels)\u001b[0m\n\u001b[1;32m    214\u001b[0m     \u001b[0;32mdef\u001b[0m \u001b[0mset_axis\u001b[0m\u001b[0;34m(\u001b[0m\u001b[0mself\u001b[0m\u001b[0;34m,\u001b[0m \u001b[0maxis\u001b[0m\u001b[0;34m:\u001b[0m \u001b[0mint\u001b[0m\u001b[0;34m,\u001b[0m \u001b[0mnew_labels\u001b[0m\u001b[0;34m:\u001b[0m \u001b[0mIndex\u001b[0m\u001b[0;34m)\u001b[0m \u001b[0;34m->\u001b[0m \u001b[0;32mNone\u001b[0m\u001b[0;34m:\u001b[0m\u001b[0;34m\u001b[0m\u001b[0;34m\u001b[0m\u001b[0m\n\u001b[1;32m    215\u001b[0m         \u001b[0;31m# Caller is responsible for ensuring we have an Index object.\u001b[0m\u001b[0;34m\u001b[0m\u001b[0;34m\u001b[0m\u001b[0m\n\u001b[0;32m--> 216\u001b[0;31m         \u001b[0mself\u001b[0m\u001b[0;34m.\u001b[0m\u001b[0m_validate_set_axis\u001b[0m\u001b[0;34m(\u001b[0m\u001b[0maxis\u001b[0m\u001b[0;34m,\u001b[0m \u001b[0mnew_labels\u001b[0m\u001b[0;34m)\u001b[0m\u001b[0;34m\u001b[0m\u001b[0;34m\u001b[0m\u001b[0m\n\u001b[0m\u001b[1;32m    217\u001b[0m         \u001b[0mself\u001b[0m\u001b[0;34m.\u001b[0m\u001b[0maxes\u001b[0m\u001b[0;34m[\u001b[0m\u001b[0maxis\u001b[0m\u001b[0;34m]\u001b[0m \u001b[0;34m=\u001b[0m \u001b[0mnew_labels\u001b[0m\u001b[0;34m\u001b[0m\u001b[0;34m\u001b[0m\u001b[0m\n\u001b[1;32m    218\u001b[0m \u001b[0;34m\u001b[0m\u001b[0m\n",
      "\u001b[0;32m/usr/local/lib/python3.9/site-packages/pandas/core/internals/base.py\u001b[0m in \u001b[0;36m_validate_set_axis\u001b[0;34m(self, axis, new_labels)\u001b[0m\n\u001b[1;32m     55\u001b[0m \u001b[0;34m\u001b[0m\u001b[0m\n\u001b[1;32m     56\u001b[0m         \u001b[0;32melif\u001b[0m \u001b[0mnew_len\u001b[0m \u001b[0;34m!=\u001b[0m \u001b[0mold_len\u001b[0m\u001b[0;34m:\u001b[0m\u001b[0;34m\u001b[0m\u001b[0;34m\u001b[0m\u001b[0m\n\u001b[0;32m---> 57\u001b[0;31m             raise ValueError(\n\u001b[0m\u001b[1;32m     58\u001b[0m                 \u001b[0;34mf\"Length mismatch: Expected axis has {old_len} elements, new \"\u001b[0m\u001b[0;34m\u001b[0m\u001b[0;34m\u001b[0m\u001b[0m\n\u001b[1;32m     59\u001b[0m                 \u001b[0;34mf\"values have {new_len} elements\"\u001b[0m\u001b[0;34m\u001b[0m\u001b[0;34m\u001b[0m\u001b[0m\n",
      "\u001b[0;31mValueError\u001b[0m: Length mismatch: Expected axis has 2 elements, new values have 4 elements"
     ]
    }
   ],
   "source": [
    "cat_school_data.columns = ['school','student','variable','value']"
   ]
  },
  {
   "cell_type": "code",
   "execution_count": null,
   "id": "923c9701",
   "metadata": {},
   "outputs": [],
   "source": []
  },
  {
   "cell_type": "code",
   "execution_count": null,
   "id": "70b00ddc",
   "metadata": {},
   "outputs": [],
   "source": []
  },
  {
   "cell_type": "code",
   "execution_count": null,
   "id": "2072a739",
   "metadata": {},
   "outputs": [],
   "source": []
  },
  {
   "cell_type": "code",
   "execution_count": null,
   "id": "c4457c1e",
   "metadata": {},
   "outputs": [],
   "source": []
  }
 ],
 "metadata": {
  "kernelspec": {
   "display_name": "Python 3 (ipykernel)",
   "language": "python",
   "name": "python3"
  },
  "language_info": {
   "codemirror_mode": {
    "name": "ipython",
    "version": 3
   },
   "file_extension": ".py",
   "mimetype": "text/x-python",
   "name": "python",
   "nbconvert_exporter": "python",
   "pygments_lexer": "ipython3",
   "version": "3.9.7"
  }
 },
 "nbformat": 4,
 "nbformat_minor": 5
}
